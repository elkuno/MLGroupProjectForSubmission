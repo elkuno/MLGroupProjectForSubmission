{
 "cells": [
  {
   "cell_type": "markdown",
   "metadata": {},
   "source": [
    "# Grader Guidelines\n",
    "\n",
    "*Expected runtime*: 45 minutes\n",
    "\n",
    "*Requirements*:\n",
    "\n",
    "* Download `train.csv`, `test.csv`, and the `images.zip` from https://www.kaggle.com/competitions/leaf-classification/data\n",
    "* Put `train.csv` and `test.csv` (unzip if needed) into a subdirectory of the directory you're running this notebook from: `./CSV`.  Unzip the contents of `images.zip` to `[directory of this .ipynb]/images`.\n",
    "\n",
    "This notebook __must__ be run first, as the CSVs generated here are used by some deep learning models.  You will also need to run the other notebooks from the same directory, since they will need the output CSVs.\n",
    "\n",
    "Additionally, some cells in this notebook are resource intensive (16 GB of RAM is sufficient, but I'm not sure exactly how much is needed).  Use the constants in the next cell to control which parts are run.  Be aware that if you set these constants to `False`, *other notebooks will __not__ work.*"
   ]
  },
  {
   "cell_type": "code",
   "execution_count": 1,
   "metadata": {},
   "outputs": [],
   "source": [
    "# Controls whether preprocessed, transformed data is saved to a CSV--the CSV is used by some our our deep learning models\n",
    "EXPORT_TO_CSV = True\n",
    "\n",
    "# Controls whether data augmentation is performed.  This is also saved to a CSV.\n",
    "# 16 GB of RAM and at least 4 GB of storage space should be sufficient.\n",
    "USE_DATA_AUGMENTATION = True"
   ]
  },
  {
   "cell_type": "code",
   "execution_count": 2,
   "metadata": {},
   "outputs": [],
   "source": [
    "from sklearn.ensemble import RandomForestClassifier, VotingClassifier\n",
    "from scipy.stats import randint\n",
    "import PIL.Image as Image\n",
    "import os\n",
    "\n",
    "import random\n",
    "\n",
    "import torch\n",
    "from torchvision.transforms import v2 as transforms\n",
    "from torchvision.io import read_image, ImageReadMode\n",
    "from PIL import Image\n",
    "from sklearn.utils import shuffle\n",
    "import matplotlib.pyplot as plt\n",
    "\n",
    "import pandas as pd\n",
    "import numpy as np\n",
    "from sklearn.dummy import DummyClassifier\n",
    "from sklearn.compose import make_column_transformer\n",
    "from sklearn.pipeline import make_pipeline\n",
    "from sklearn.preprocessing import Normalizer\n",
    "from sklearn.model_selection import cross_validate, train_test_split, RandomizedSearchCV\n",
    "from sklearn.ensemble import RandomForestClassifier, VotingClassifier"
   ]
  },
  {
   "cell_type": "markdown",
   "metadata": {},
   "source": [
    "# Preprocessing"
   ]
  },
  {
   "cell_type": "code",
   "execution_count": 3,
   "metadata": {},
   "outputs": [],
   "source": [
    "# Image size constants for convenience\n",
    "IMAGE_X, IMAGE_Y = 200, 200     # Resize all images to these dimensions\n",
    "IMAGE_DIM = (IMAGE_X, IMAGE_Y)\n",
    "N_PIXELS = IMAGE_X * IMAGE_Y    # Number of pixels in resized images\n",
    "\n",
    "N_IMAGES = 1584                 # Original number of instances\n",
    "AUGMENTED_ORIGINAL_RATIO = 3    # Number of augmented images for every original image"
   ]
  },
  {
   "cell_type": "code",
   "execution_count": 4,
   "metadata": {},
   "outputs": [],
   "source": [
    "# Read in training and test data\n",
    "train_df = pd.read_csv(\"CSV/train.csv\", index_col='id')\n",
    "test_df = pd.read_csv(\"CSV/test.csv\", index_col='id')"
   ]
  },
  {
   "cell_type": "markdown",
   "metadata": {},
   "source": [
    "#### Initial Image Preprocessing"
   ]
  },
  {
   "cell_type": "code",
   "execution_count": 5,
   "metadata": {},
   "outputs": [],
   "source": [
    "# Loads an image and applies some basic preprocessing\n",
    "# to it (resizing, black and white)\n",
    "def load_image(filename):\n",
    "    return Image.open(filename) \\\n",
    "                .resize(IMAGE_DIM) \\\n",
    "                .convert(\n",
    "                    mode='1',   # black and white\n",
    "                    dither=Image.Dither.NONE,\n",
    "                )\n",
    "\n",
    "# Converts a Pillow image to a 1D numpy array of pixel data\n",
    "def image_to_flat_array(img):\n",
    "    return np.array(img).reshape((-1))\n",
    "\n",
    "# Loads images with specified indices into one-dimensional\n",
    "# pixel data and concatenates it all into a single dataframe\n",
    "def images_to_df(indices):\n",
    "    imgs = [\n",
    "        load_image(f'images/{i}.jpg') for i in indices\n",
    "    ]\n",
    "\n",
    "    # Converts each image to flat 1D representation\n",
    "    df = pd.DataFrame(\n",
    "               np.asarray(imgs).reshape((len(imgs), -1))\n",
    "           ).set_index(indices)\n",
    "    df.columns = df.columns.astype(str)     # Prevents some obscure errors later\n",
    "    return df"
   ]
  },
  {
   "cell_type": "code",
   "execution_count": 6,
   "metadata": {},
   "outputs": [],
   "source": [
    "# Load the data corresponding to each dataset\n",
    "img_train_df = images_to_df(train_df.index).astype(int)\n",
    "img_test_df = images_to_df(test_df.index).astype(int)"
   ]
  },
  {
   "cell_type": "markdown",
   "metadata": {},
   "source": [
    "#### Traditional Machine Learning Pipeline"
   ]
  },
  {
   "cell_type": "code",
   "execution_count": 7,
   "metadata": {},
   "outputs": [],
   "source": [
    "# Add the img_train columns to the preprocessor lists\n",
    "# Specify the type of each column for us to know what preprocessing needs to be done to each column\n",
    "numeric_features = [i for i in train_df.drop(columns='species').columns]\n",
    "passthrough_features = [i for i in img_train_df]"
   ]
  },
  {
   "cell_type": "code",
   "execution_count": 8,
   "metadata": {},
   "outputs": [],
   "source": [
    "# Define the pipelines for each type of data we have\n",
    "numeric_pipeline = make_pipeline(\n",
    "    # Normalize all of them to unit norm\n",
    "    Normalizer()\n",
    ")\n",
    "\n",
    "# Define our column transformer/preprocessor itself\n",
    "preprocessor = make_column_transformer(\n",
    "    (numeric_pipeline, numeric_features),\n",
    "    ('passthrough', passthrough_features)\n",
    "\n",
    ")"
   ]
  },
  {
   "cell_type": "markdown",
   "metadata": {},
   "source": [
    "#### Concatenated Dataframes & Column Transformations"
   ]
  },
  {
   "cell_type": "code",
   "execution_count": 9,
   "metadata": {},
   "outputs": [],
   "source": [
    "# Concatenates the image data with the metadata into one dataframe\n",
    "full_train_df = pd.concat([train_df, img_train_df], axis=1)\n",
    "full_test_df = pd.concat([test_df, img_test_df], axis=1)\n",
    "\n",
    "# We want to split X (big X because it is a matrix) and y from each other\n",
    "full_X_train = full_train_df.drop(columns=['species'])\n",
    "full_y_train = full_train_df['species']\n",
    "\n",
    "# Funnily enough, the test has no ground truth...\n",
    "full_X_test = full_test_df\n",
    "\n",
    "# Now we want to fit our preprocessor onto our data, so we can actually transform it (then cast it to a DF)\n",
    "full_X_train_transformed = pd.DataFrame(preprocessor.fit_transform(full_X_train))\n",
    "full_X_test_transformed = pd.DataFrame(preprocessor.transform(full_X_test))"
   ]
  },
  {
   "cell_type": "markdown",
   "metadata": {},
   "source": [
    "### Save the pre-processed data to csv for access in other jupyter notebooks"
   ]
  },
  {
   "cell_type": "code",
   "execution_count": 10,
   "metadata": {},
   "outputs": [],
   "source": [
    "# This MUST be run (i.e. EXPORT_TO_CSV must be True) for deep learning models\n",
    "# to work.\n",
    "if(EXPORT_TO_CSV):\n",
    "    # By this point, there should already be a ./CSV folder\n",
    "    if not os.path.exists('CSV/pre-processed'):\n",
    "        os.mkdir('CSV/pre-processed')\n",
    "\n",
    "    full_X_train_transformed.to_csv('CSV/pre-processed/full_X_train_transformed')\n",
    "    full_y_train.to_csv('CSV/pre-processed/full_y_train')\n",
    "\n",
    "\n",
    "    full_X_test_transformed.to_csv('CSV/pre-processed/full_X_test_transformed')"
   ]
  },
  {
   "cell_type": "markdown",
   "metadata": {},
   "source": [
    "## Data Augmentation"
   ]
  },
  {
   "cell_type": "markdown",
   "metadata": {},
   "source": [
    "#### Image Preprocessing Pipelines for Data Augmentation"
   ]
  },
  {
   "cell_type": "code",
   "execution_count": 11,
   "metadata": {},
   "outputs": [],
   "source": [
    "# Preprocessing pipelines for data augmentation and normalization\n",
    "\n",
    "# Use a consistent seed\n",
    "torch.manual_seed(42)   # Use a consistent seed for transformations.\n",
    "random.seed(42)  # This may be needed as per: https://github.com/pytorch/pytorch/issues/42331\n",
    "\n",
    "# Used to resize normal images to the same size as augmented images\n",
    "image_resizer = transforms.Compose([\n",
    "    transforms.ToImage(),\n",
    "    transforms.Resize(size=(IMAGE_X, IMAGE_Y), antialias=False),\n",
    "    transforms.ToDtype(torch.float32, scale=True),\n",
    "])\n",
    "\n",
    "# Applies data augmentation to images\n",
    "image_augmentor = transforms.Compose([\n",
    "    transforms.ToImage(),\n",
    "    transforms.RandomRotation(degrees=(0, 360), expand=False, fill=(1)),\n",
    "    transforms.RandomHorizontalFlip(p=0.5),\n",
    "    transforms.RandomVerticalFlip(p=0.5),\n",
    "    # We removed the RandomResizedCrop, since it cropped too much and made scores worse\n",
    "    #transforms.RandomResizedCrop(size=(IMAGE_X, IMAGE_Y), antialias=False),\n",
    "    transforms.Resize(size=(IMAGE_X, IMAGE_Y), antialias=False),    # This is still needed so feature size is correct\n",
    "    transforms.ToDtype(torch.float32, scale=True),\n",
    "])"
   ]
  },
  {
   "cell_type": "code",
   "execution_count": 12,
   "metadata": {},
   "outputs": [
    {
     "data": {
      "text/plain": [
       "<matplotlib.image.AxesImage at 0x170c66c20d0>"
      ]
     },
     "execution_count": 12,
     "metadata": {},
     "output_type": "execute_result"
    },
    {
     "data": {
      "image/png": "[encoded data removed]",
      "text/plain": [
       "<Figure size 640x480 with 1 Axes>"
      ]
     },
     "metadata": {},
     "output_type": "display_data"
    }
   ],
   "source": [
    "# Verify that image_augmentor applies the desired transformations\n",
    "img = read_image('images/1.jpg', mode=ImageReadMode.GRAY)\n",
    "copy = image_resizer(img)\n",
    "out = [image_augmentor(img) for _ in range(5)]\n",
    "\n",
    "# Display an augmented image\n",
    "plt.imshow(out[0][0])"
   ]
  },
  {
   "cell_type": "code",
   "execution_count": 13,
   "metadata": {},
   "outputs": [
    {
     "data": {
      "text/plain": [
       "<matplotlib.image.AxesImage at 0x170c5464350>"
      ]
     },
     "execution_count": 13,
     "metadata": {},
     "output_type": "execute_result"
    },
    {
     "data": {
      "image/png": "[encoded data removed]",
      "text/plain": [
       "<Figure size 640x480 with 1 Axes>"
      ]
     },
     "metadata": {},
     "output_type": "display_data"
    }
   ],
   "source": [
    "# The original image\n",
    "plt.imshow(img[0])"
   ]
  },
  {
   "cell_type": "code",
   "execution_count": 14,
   "metadata": {},
   "outputs": [],
   "source": [
    "# Redefine load_image to use grayscale and pytorch pipeline\n",
    "# Returns the preprocessed image as a 2D numpy array\n",
    "def load_image(filename):\n",
    "    img = read_image(filename, mode=ImageReadMode.GRAY)\n",
    "    return image_resizer(img)[0].numpy()\n",
    "\n",
    "# Returns a 2D numpy arrays from the augmented images\n",
    "def augment_image(filename):\n",
    "    img = read_image(filename, mode=ImageReadMode.GRAY)\n",
    "    return image_augmentor(img)[0].numpy()"
   ]
  },
  {
   "cell_type": "markdown",
   "metadata": {},
   "source": [
    "#### Data Augmentation Function"
   ]
  },
  {
   "cell_type": "code",
   "execution_count": 15,
   "metadata": {},
   "outputs": [],
   "source": [
    "# Performs image data augmentation on X_train and returns a new dataframe that\n",
    "# Corresopnds to the updated information\n",
    "def augmentation(X_train, y_train):\n",
    "    # These need to be lists to avoid multiple calls to pd.concat()\n",
    "    # Hold temporary augmented data\n",
    "    x_aug = []\n",
    "    y_aug = []\n",
    "    for idx in X_train.index:\n",
    "        # Adds AUGMENTED_ORIGINAL_RATIO augmented versions of the image\n",
    "        for _ in range(AUGMENTED_ORIGINAL_RATIO):\n",
    "            augmented_img = augment_image(f'images/{idx}.jpg')\n",
    "            row = X_train.loc[idx].to_list()    # Get metadata\n",
    "            row[-N_PIXELS:] = augmented_img.reshape(-1)  # Replace image data with augmented data\n",
    "            x_aug.append(row)\n",
    "            y_aug.append(y_train.loc[idx])  # Keeps y data consistent\n",
    "\n",
    "    # Creates an actual dataframe containing all of the data\n",
    "    # One unfortunate side-effect is that index information is lost for the augmented data\n",
    "    X_train_augmented = pd.concat([\n",
    "        X_train,\n",
    "        pd.DataFrame(\n",
    "            x_aug,\n",
    "            # index has to be given arbitrary numbers that don't conflict with anything else\n",
    "            index=pd.RangeIndex(start=N_IMAGES + 1, stop=N_IMAGES + len(x_aug) + 1, name='id'),\n",
    "            columns=X_train.columns\n",
    "        )\n",
    "    ])\n",
    "\n",
    "    y_train_augmented = pd.concat([\n",
    "        y_train,\n",
    "        pd.Series(\n",
    "            y_aug,\n",
    "            index=pd.RangeIndex(start=N_IMAGES + 1, stop=N_IMAGES + len(x_aug) + 1, name='id'),\n",
    "            name=y_train.name\n",
    "        )\n",
    "    ])\n",
    "    return X_train_augmented, y_train_augmented\n"
   ]
  },
  {
   "cell_type": "markdown",
   "metadata": {},
   "source": [
    "#### Applying Data Augmentation/Saving to CSV"
   ]
  },
  {
   "cell_type": "code",
   "execution_count": 16,
   "metadata": {},
   "outputs": [
    {
     "name": "stdout",
     "output_type": "stream",
     "text": [
      "(3960, 40192)\n",
      "(3960,)\n"
     ]
    }
   ],
   "source": [
    "# Full train set data augmentation\n",
    "#\n",
    "# Be aware that this will take up to 16GB of RAM depending on AUGMENTED_ORIGINAL_RATIO\n",
    "# and may take between 10-20 minutes.\n",
    "if USE_DATA_AUGMENTATION:\n",
    "\n",
    "    full_X_train_augmented, full_y_train_augmented = augmentation(\n",
    "        full_X_train, full_y_train\n",
    "    )\n",
    "\n",
    "    print(full_X_train_augmented.shape)\n",
    "    print(full_y_train_augmented.shape)"
   ]
  },
  {
   "cell_type": "code",
   "execution_count": 17,
   "metadata": {},
   "outputs": [],
   "source": [
    "# Augmented train and corresponding validation/test sets to CSV\n",
    "if USE_DATA_AUGMENTATION:\n",
    "    \n",
    "    # Have to start from the original train data to avoid information leaking\n",
    "    # from the validation set\n",
    "    X_train, X_val, y_train, y_val = train_test_split(\n",
    "        full_X_train, full_y_train\n",
    "    )\n",
    "\n",
    "    # Augment and fit/transform the train data\n",
    "    X_train_augmented, y_train_augmented = augmentation(X_train, y_train)\n",
    "    X_train_augmented = pd.DataFrame(preprocessor.fit_transform(X_train_augmented), columns=full_X_train.columns)\n",
    "\n",
    "    # Shuffle train data so that the augmented data for one image are not all right next to each other\n",
    "    X_train_augmented, y_train_augmented = shuffle(X_train_augmented, y_train_augmented)\n",
    "\n",
    "    # Transform the validation set\n",
    "    X_val = pd.DataFrame(preprocessor.transform(X_val), columns=full_X_train.columns)\n",
    "\n",
    "    X_test_transformed = pd.DataFrame(preprocessor.transform(full_X_test), columns=full_X_train.columns)\n",
    "\n",
    "    if EXPORT_TO_CSV:\n",
    "        if not os.path.exists('CSV/pre-processed/training'):\n",
    "            os.makedirs('CSV/pre-processed/training')\n",
    "\n",
    "        X_train_augmented.to_csv('CSV/pre-processed/training/X_train_augmented.csv')\n",
    "        y_train_augmented.to_csv('CSV/pre-processed/training/y_train_augmented.csv')\n",
    "\n",
    "        X_val.to_csv('CSV/pre-processed/training/X_validation_augmented.csv')\n",
    "        y_val.to_csv('CSV/pre-processed/training/y_validation_augmented.csv')\n",
    "\n",
    "        # X_test properly transformed\n",
    "        X_test_transformed.to_csv('CSV/pre-processed/training/X_test_augmented.csv')\n"
   ]
  },
  {
   "cell_type": "code",
   "execution_count": 18,
   "metadata": {},
   "outputs": [],
   "source": [
    "# Save the full augmented train set to a CSV\n",
    "if USE_DATA_AUGMENTATION:\n",
    "    \n",
    "    # Transform the data\n",
    "    full_X_train_augmented = pd.DataFrame(preprocessor.fit_transform(full_X_train_augmented), columns=full_X_train.columns)\n",
    "    \n",
    "    # Shuffle train data so that the augmented versions of one image are not all right next to each other\n",
    "    full_X_train_augmented, full_y_train_augmented = shuffle(full_X_train_augmented, full_y_train_augmented)\n",
    "\n",
    "    full_X_test_final = pd.DataFrame(preprocessor.transform(full_X_test), columns=full_X_train.columns)\n",
    "\n",
    "    if EXPORT_TO_CSV:\n",
    "        if not os.path.exists('CSV/pre-processed/training'):\n",
    "            os.makedirs('CSV/pre-processed/training')\n",
    "\n",
    "        full_X_train_augmented.to_csv('CSV/pre-processed/training/full_X_train_augmented.csv')\n",
    "        full_y_train_augmented.to_csv('CSV/pre-processed/training/full_y_train_augmented.csv')\n",
    "        full_X_test_final.to_csv('CSV/pre-processed/training/full_X_test_augmented.csv')"
   ]
  },
  {
   "cell_type": "markdown",
   "metadata": {},
   "source": [
    "# Models"
   ]
  },
  {
   "cell_type": "code",
   "execution_count": 19,
   "metadata": {},
   "outputs": [],
   "source": [
    "# Borrowed from the class notebooks with a few modifications.\n",
    "# Uses accuracy for the CV metric\n",
    "def mean_std_cross_val_scores(model, X_train, y_train, **kwargs):\n",
    "\n",
    "    scores = cross_validate(\n",
    "        model, X_train, y_train, scoring='accuracy', **kwargs\n",
    "    )\n",
    "\n",
    "    mean_scores = pd.DataFrame(scores).mean()\n",
    "    std_scores = pd.DataFrame(scores).std()\n",
    "    out_col = []\n",
    "\n",
    "    for i in range(len(mean_scores)):\n",
    "        out_col.append((f\"%0.3f (+/- %0.3f)\" % (mean_scores[i], std_scores[i])))\n",
    "\n",
    "    return pd.Series(data=out_col, index=mean_scores.index).rename({'test_score': 'validation_score'})"
   ]
  },
  {
   "cell_type": "markdown",
   "metadata": {},
   "source": [
    "### Manual Dummy Classifier"
   ]
  },
  {
   "cell_type": "code",
   "execution_count": 20,
   "metadata": {},
   "outputs": [],
   "source": [
    "# Dummy classifer that randomly guesses the species a leaf belongs to\n",
    "np.random.seed()\n",
    "dummy = DummyClassifier(\n",
    "    strategy=\"uniform\",\n",
    "    random_state=7         # A constant is used to improve reproducibility.\n",
    ")"
   ]
  },
  {
   "cell_type": "code",
   "execution_count": 21,
   "metadata": {},
   "outputs": [
    {
     "data": {
      "text/plain": [
       "fit_time            0.180 (+/- 0.028)\n",
       "score_time          0.001 (+/- 0.002)\n",
       "validation_score    0.014 (+/- 0.012)\n",
       "dtype: object"
      ]
     },
     "execution_count": 21,
     "metadata": {},
     "output_type": "execute_result"
    }
   ],
   "source": [
    "\n",
    "mean_std_cross_val_scores(dummy, full_X_train_transformed, full_y_train)"
   ]
  },
  {
   "cell_type": "markdown",
   "metadata": {},
   "source": [
    "With 99 classes, the DummyClassifier's cv-accuracy is a little over 10%, as expected."
   ]
  },
  {
   "cell_type": "markdown",
   "metadata": {},
   "source": [
    "### Random Forest"
   ]
  },
  {
   "cell_type": "code",
   "execution_count": 22,
   "metadata": {},
   "outputs": [
    {
     "name": "stdout",
     "output_type": "stream",
     "text": [
      "fit_time            3.363 (+/- 0.343)\n",
      "score_time          0.380 (+/- 0.047)\n",
      "validation_score    0.894 (+/- 0.011)\n",
      "dtype: object\n"
     ]
    }
   ],
   "source": [
    "# Testing a random forest\n",
    "forest = RandomForestClassifier(\n",
    "    n_jobs=-1,\n",
    "    warm_start=False,\n",
    "    random_state = 42,  # For reproducibility\n",
    ")\n",
    "\n",
    "# No preprocessing/pipeline is required here, since DecisionTrees don't need scaling\n",
    "forest_cv_scores = mean_std_cross_val_scores(forest, full_X_train, full_y_train, cv=5)\n",
    "print(forest_cv_scores)"
   ]
  },
  {
   "cell_type": "markdown",
   "metadata": {},
   "source": [
    "There may be some overfitting here.\n",
    "\n",
    "We then wanted to evaluate the RandomForest's accuracy on the image data, to see whether it would be better to drop those features altogether.  To that end, we trained two additional RandomForests:\n",
    "\n",
    "- One on image data only\n",
    "- One on metadata only"
   ]
  },
  {
   "cell_type": "code",
   "execution_count": 23,
   "metadata": {},
   "outputs": [
    {
     "name": "stdout",
     "output_type": "stream",
     "text": [
      "fit_time            3.053 (+/- 0.108)\n",
      "score_time          0.136 (+/- 0.013)\n",
      "validation_score    0.557 (+/- 0.015)\n",
      "dtype: object\n"
     ]
    }
   ],
   "source": [
    "# Evaluate performance on the image data only\n",
    "forest_img_pipeline = make_pipeline(\n",
    "    make_column_transformer(\n",
    "        ('passthrough', passthrough_features),  # Preserve image data features\n",
    "        remainder='drop',   # Drop metadata features\n",
    "    ),\n",
    "    forest,\n",
    ")\n",
    "\n",
    "forest_img_cv_scores = mean_std_cross_val_scores(forest_img_pipeline, full_X_train, full_y_train, cv=5)\n",
    "print(forest_img_cv_scores)"
   ]
  },
  {
   "cell_type": "code",
   "execution_count": 24,
   "metadata": {},
   "outputs": [
    {
     "name": "stdout",
     "output_type": "stream",
     "text": [
      "fit_time            1.920 (+/- 0.204)\n",
      "score_time          0.055 (+/- 0.009)\n",
      "validation_score    0.976 (+/- 0.006)\n",
      "dtype: object\n"
     ]
    }
   ],
   "source": [
    "# Evaluate performance on the metadata only\n",
    "forest_metadata_pipeline = make_pipeline(\n",
    "    make_column_transformer(\n",
    "        ('passthrough', numeric_features),  # Don't need to normalize numeric data when using a RandomForest\n",
    "        remainder='drop',   # Drop image features\n",
    "    ),\n",
    "    forest,\n",
    ")\n",
    "\n",
    "forest_meta_cv_scores = mean_std_cross_val_scores(forest_metadata_pipeline, full_X_train, full_y_train, cv=5)\n",
    "print(forest_meta_cv_scores)"
   ]
  },
  {
   "cell_type": "markdown",
   "metadata": {},
   "source": [
    "Out of all three RandomForests, the metadata-only RandomForest has the best CV accuracy, although this did not necessarily translate into a good Kaggle score.  It seems that there is still some overfitting, despite the cross-validation score.  Some of the information I've looked into indicates that sklearn's OOB score might be a better metric for evaluating how well the model will generalize if we were to do this project again.\n",
    "\n",
    "We tried hyperparameter optimization on the metadata-only forest"
   ]
  },
  {
   "cell_type": "code",
   "execution_count": 25,
   "metadata": {},
   "outputs": [
    {
     "data": {
      "text/html": [
       "<style>#sk-container-id-1 {color: black;}#sk-container-id-1 pre{padding: 0;}#sk-container-id-1 div.sk-toggleable {background-color: white;}#sk-container-id-1 label.sk-toggleable__label {cursor: pointer;display: block;width: 100%;margin-bottom: 0;padding: 0.3em;box-sizing: border-box;text-align: center;}#sk-container-id-1 label.sk-toggleable__label-arrow:before {content: \"▸\";float: left;margin-right: 0.25em;color: #696969;}#sk-container-id-1 label.sk-toggleable__label-arrow:hover:before {color: black;}#sk-container-id-1 div.sk-estimator:hover label.sk-toggleable__label-arrow:before {color: black;}#sk-container-id-1 div.sk-toggleable__content {max-height: 0;max-width: 0;overflow: hidden;text-align: left;background-color: #f0f8ff;}#sk-container-id-1 div.sk-toggleable__content pre {margin: 0.2em;color: black;border-radius: 0.25em;background-color: #f0f8ff;}#sk-container-id-1 input.sk-toggleable__control:checked~div.sk-toggleable__content {max-height: 200px;max-width: 100%;overflow: auto;}#sk-container-id-1 input.sk-toggleable__control:checked~label.sk-toggleable__label-arrow:before {content: \"▾\";}#sk-container-id-1 div.sk-estimator input.sk-toggleable__control:checked~label.sk-toggleable__label {background-color: #d4ebff;}#sk-container-id-1 div.sk-label input.sk-toggleable__control:checked~label.sk-toggleable__label {background-color: #d4ebff;}#sk-container-id-1 input.sk-hidden--visually {border: 0;clip: rect(1px 1px 1px 1px);clip: rect(1px, 1px, 1px, 1px);height: 1px;margin: -1px;overflow: hidden;padding: 0;position: absolute;width: 1px;}#sk-container-id-1 div.sk-estimator {font-family: monospace;background-color: #f0f8ff;border: 1px dotted black;border-radius: 0.25em;box-sizing: border-box;margin-bottom: 0.5em;}#sk-container-id-1 div.sk-estimator:hover {background-color: #d4ebff;}#sk-container-id-1 div.sk-parallel-item::after {content: \"\";width: 100%;border-bottom: 1px solid gray;flex-grow: 1;}#sk-container-id-1 div.sk-label:hover label.sk-toggleable__label {background-color: #d4ebff;}#sk-container-id-1 div.sk-serial::before {content: \"\";position: absolute;border-left: 1px solid gray;box-sizing: border-box;top: 0;bottom: 0;left: 50%;z-index: 0;}#sk-container-id-1 div.sk-serial {display: flex;flex-direction: column;align-items: center;background-color: white;padding-right: 0.2em;padding-left: 0.2em;position: relative;}#sk-container-id-1 div.sk-item {position: relative;z-index: 1;}#sk-container-id-1 div.sk-parallel {display: flex;align-items: stretch;justify-content: center;background-color: white;position: relative;}#sk-container-id-1 div.sk-item::before, #sk-container-id-1 div.sk-parallel-item::before {content: \"\";position: absolute;border-left: 1px solid gray;box-sizing: border-box;top: 0;bottom: 0;left: 50%;z-index: -1;}#sk-container-id-1 div.sk-parallel-item {display: flex;flex-direction: column;z-index: 1;position: relative;background-color: white;}#sk-container-id-1 div.sk-parallel-item:first-child::after {align-self: flex-end;width: 50%;}#sk-container-id-1 div.sk-parallel-item:last-child::after {align-self: flex-start;width: 50%;}#sk-container-id-1 div.sk-parallel-item:only-child::after {width: 0;}#sk-container-id-1 div.sk-dashed-wrapped {border: 1px dashed gray;margin: 0 0.4em 0.5em 0.4em;box-sizing: border-box;padding-bottom: 0.4em;background-color: white;}#sk-container-id-1 div.sk-label label {font-family: monospace;font-weight: bold;display: inline-block;line-height: 1.2em;}#sk-container-id-1 div.sk-label-container {text-align: center;}#sk-container-id-1 div.sk-container {/* jupyter's `normalize.less` sets `[hidden] { display: none; }` but bootstrap.min.css set `[hidden] { display: none !important; }` so we also need the `!important` here to be able to override the default hidden behavior on the sphinx rendered scikit-learn.org. See: https://github.com/scikit-learn/scikit-learn/issues/21755 */display: inline-block !important;position: relative;}#sk-container-id-1 div.sk-text-repr-fallback {display: none;}</style><div id=\"sk-container-id-1\" class=\"sk-top-container\"><div class=\"sk-text-repr-fallback\"><pre>RandomizedSearchCV(estimator=Pipeline(steps=[(&#x27;columntransformer&#x27;,\n",
       "                                              ColumnTransformer(transformers=[(&#x27;passthrough&#x27;,\n",
       "                                                                               &#x27;passthrough&#x27;,\n",
       "                                                                               [&#x27;margin1&#x27;,\n",
       "                                                                                &#x27;margin2&#x27;,\n",
       "                                                                                &#x27;margin3&#x27;,\n",
       "                                                                                &#x27;margin4&#x27;,\n",
       "                                                                                &#x27;margin5&#x27;,\n",
       "                                                                                &#x27;margin6&#x27;,\n",
       "                                                                                &#x27;margin7&#x27;,\n",
       "                                                                                &#x27;margin8&#x27;,\n",
       "                                                                                &#x27;margin9&#x27;,\n",
       "                                                                                &#x27;margin10&#x27;,\n",
       "                                                                                &#x27;margin11&#x27;,\n",
       "                                                                                &#x27;margin12&#x27;,\n",
       "                                                                                &#x27;margin13&#x27;,\n",
       "                                                                                &#x27;margin14&#x27;,\n",
       "                                                                                &#x27;margin15&#x27;,\n",
       "                                                                                &#x27;margin16&#x27;,\n",
       "                                                                                &#x27;margin17&#x27;,\n",
       "                                                                                &#x27;margin18&#x27;,\n",
       "                                                                                &#x27;margin19&#x27;,\n",
       "                                                                                &#x27;margin20&#x27;,\n",
       "                                                                                &#x27;margin21&#x27;,...\n",
       "                                             (&#x27;randomforestclassifier&#x27;,\n",
       "                                              RandomForestClassifier(n_jobs=-1,\n",
       "                                                                     random_state=42))]),\n",
       "                   n_iter=20, n_jobs=-1,\n",
       "                   param_distributions={&#x27;randomforestclassifier__max_depth&#x27;: [10,\n",
       "                                                                              30,\n",
       "                                                                              80,\n",
       "                                                                              None],\n",
       "                                        &#x27;randomforestclassifier__max_features&#x27;: [5,\n",
       "                                                                                 &#x27;log2&#x27;,\n",
       "                                                                                 &#x27;sqrt&#x27;,\n",
       "                                                                                 21],\n",
       "                                        &#x27;randomforestclassifier__n_estimators&#x27;: &lt;scipy.stats._distn_infrastructure.rv_discrete_frozen object at 0x00000171A564BE10&gt;},\n",
       "                   random_state=42)</pre><b>In a Jupyter environment, please rerun this cell to show the HTML representation or trust the notebook. <br />On GitHub, the HTML representation is unable to render, please try loading this page with nbviewer.org.</b></div><div class=\"sk-container\" hidden><div class=\"sk-item sk-dashed-wrapped\"><div class=\"sk-label-container\"><div class=\"sk-label sk-toggleable\"><input class=\"sk-toggleable__control sk-hidden--visually\" id=\"sk-estimator-id-1\" type=\"checkbox\" ><label for=\"sk-estimator-id-1\" class=\"sk-toggleable__label sk-toggleable__label-arrow\">RandomizedSearchCV</label><div class=\"sk-toggleable__content\"><pre>RandomizedSearchCV(estimator=Pipeline(steps=[(&#x27;columntransformer&#x27;,\n",
       "                                              ColumnTransformer(transformers=[(&#x27;passthrough&#x27;,\n",
       "                                                                               &#x27;passthrough&#x27;,\n",
       "                                                                               [&#x27;margin1&#x27;,\n",
       "                                                                                &#x27;margin2&#x27;,\n",
       "                                                                                &#x27;margin3&#x27;,\n",
       "                                                                                &#x27;margin4&#x27;,\n",
       "                                                                                &#x27;margin5&#x27;,\n",
       "                                                                                &#x27;margin6&#x27;,\n",
       "                                                                                &#x27;margin7&#x27;,\n",
       "                                                                                &#x27;margin8&#x27;,\n",
       "                                                                                &#x27;margin9&#x27;,\n",
       "                                                                                &#x27;margin10&#x27;,\n",
       "                                                                                &#x27;margin11&#x27;,\n",
       "                                                                                &#x27;margin12&#x27;,\n",
       "                                                                                &#x27;margin13&#x27;,\n",
       "                                                                                &#x27;margin14&#x27;,\n",
       "                                                                                &#x27;margin15&#x27;,\n",
       "                                                                                &#x27;margin16&#x27;,\n",
       "                                                                                &#x27;margin17&#x27;,\n",
       "                                                                                &#x27;margin18&#x27;,\n",
       "                                                                                &#x27;margin19&#x27;,\n",
       "                                                                                &#x27;margin20&#x27;,\n",
       "                                                                                &#x27;margin21&#x27;,...\n",
       "                                             (&#x27;randomforestclassifier&#x27;,\n",
       "                                              RandomForestClassifier(n_jobs=-1,\n",
       "                                                                     random_state=42))]),\n",
       "                   n_iter=20, n_jobs=-1,\n",
       "                   param_distributions={&#x27;randomforestclassifier__max_depth&#x27;: [10,\n",
       "                                                                              30,\n",
       "                                                                              80,\n",
       "                                                                              None],\n",
       "                                        &#x27;randomforestclassifier__max_features&#x27;: [5,\n",
       "                                                                                 &#x27;log2&#x27;,\n",
       "                                                                                 &#x27;sqrt&#x27;,\n",
       "                                                                                 21],\n",
       "                                        &#x27;randomforestclassifier__n_estimators&#x27;: &lt;scipy.stats._distn_infrastructure.rv_discrete_frozen object at 0x00000171A564BE10&gt;},\n",
       "                   random_state=42)</pre></div></div></div><div class=\"sk-parallel\"><div class=\"sk-parallel-item\"><div class=\"sk-item\"><div class=\"sk-label-container\"><div class=\"sk-label sk-toggleable\"><input class=\"sk-toggleable__control sk-hidden--visually\" id=\"sk-estimator-id-2\" type=\"checkbox\" ><label for=\"sk-estimator-id-2\" class=\"sk-toggleable__label sk-toggleable__label-arrow\">estimator: Pipeline</label><div class=\"sk-toggleable__content\"><pre>Pipeline(steps=[(&#x27;columntransformer&#x27;,\n",
       "                 ColumnTransformer(transformers=[(&#x27;passthrough&#x27;, &#x27;passthrough&#x27;,\n",
       "                                                  [&#x27;margin1&#x27;, &#x27;margin2&#x27;,\n",
       "                                                   &#x27;margin3&#x27;, &#x27;margin4&#x27;,\n",
       "                                                   &#x27;margin5&#x27;, &#x27;margin6&#x27;,\n",
       "                                                   &#x27;margin7&#x27;, &#x27;margin8&#x27;,\n",
       "                                                   &#x27;margin9&#x27;, &#x27;margin10&#x27;,\n",
       "                                                   &#x27;margin11&#x27;, &#x27;margin12&#x27;,\n",
       "                                                   &#x27;margin13&#x27;, &#x27;margin14&#x27;,\n",
       "                                                   &#x27;margin15&#x27;, &#x27;margin16&#x27;,\n",
       "                                                   &#x27;margin17&#x27;, &#x27;margin18&#x27;,\n",
       "                                                   &#x27;margin19&#x27;, &#x27;margin20&#x27;,\n",
       "                                                   &#x27;margin21&#x27;, &#x27;margin22&#x27;,\n",
       "                                                   &#x27;margin23&#x27;, &#x27;margin24&#x27;,\n",
       "                                                   &#x27;margin25&#x27;, &#x27;margin26&#x27;,\n",
       "                                                   &#x27;margin27&#x27;, &#x27;margin28&#x27;,\n",
       "                                                   &#x27;margin29&#x27;, &#x27;margin30&#x27;, ...])])),\n",
       "                (&#x27;randomforestclassifier&#x27;,\n",
       "                 RandomForestClassifier(n_jobs=-1, random_state=42))])</pre></div></div></div><div class=\"sk-serial\"><div class=\"sk-item\"><div class=\"sk-serial\"><div class=\"sk-item sk-dashed-wrapped\"><div class=\"sk-label-container\"><div class=\"sk-label sk-toggleable\"><input class=\"sk-toggleable__control sk-hidden--visually\" id=\"sk-estimator-id-3\" type=\"checkbox\" ><label for=\"sk-estimator-id-3\" class=\"sk-toggleable__label sk-toggleable__label-arrow\">columntransformer: ColumnTransformer</label><div class=\"sk-toggleable__content\"><pre>ColumnTransformer(transformers=[(&#x27;passthrough&#x27;, &#x27;passthrough&#x27;,\n",
       "                                 [&#x27;margin1&#x27;, &#x27;margin2&#x27;, &#x27;margin3&#x27;, &#x27;margin4&#x27;,\n",
       "                                  &#x27;margin5&#x27;, &#x27;margin6&#x27;, &#x27;margin7&#x27;, &#x27;margin8&#x27;,\n",
       "                                  &#x27;margin9&#x27;, &#x27;margin10&#x27;, &#x27;margin11&#x27;, &#x27;margin12&#x27;,\n",
       "                                  &#x27;margin13&#x27;, &#x27;margin14&#x27;, &#x27;margin15&#x27;,\n",
       "                                  &#x27;margin16&#x27;, &#x27;margin17&#x27;, &#x27;margin18&#x27;,\n",
       "                                  &#x27;margin19&#x27;, &#x27;margin20&#x27;, &#x27;margin21&#x27;,\n",
       "                                  &#x27;margin22&#x27;, &#x27;margin23&#x27;, &#x27;margin24&#x27;,\n",
       "                                  &#x27;margin25&#x27;, &#x27;margin26&#x27;, &#x27;margin27&#x27;,\n",
       "                                  &#x27;margin28&#x27;, &#x27;margin29&#x27;, &#x27;margin30&#x27;, ...])])</pre></div></div></div><div class=\"sk-parallel\"><div class=\"sk-parallel-item\"><div class=\"sk-item\"><div class=\"sk-label-container\"><div class=\"sk-label sk-toggleable\"><input class=\"sk-toggleable__control sk-hidden--visually\" id=\"sk-estimator-id-4\" type=\"checkbox\" ><label for=\"sk-estimator-id-4\" class=\"sk-toggleable__label sk-toggleable__label-arrow\">passthrough</label><div class=\"sk-toggleable__content\"><pre>[&#x27;margin1&#x27;, &#x27;margin2&#x27;, &#x27;margin3&#x27;, &#x27;margin4&#x27;, &#x27;margin5&#x27;, &#x27;margin6&#x27;, &#x27;margin7&#x27;, &#x27;margin8&#x27;, &#x27;margin9&#x27;, &#x27;margin10&#x27;, &#x27;margin11&#x27;, &#x27;margin12&#x27;, &#x27;margin13&#x27;, &#x27;margin14&#x27;, &#x27;margin15&#x27;, &#x27;margin16&#x27;, &#x27;margin17&#x27;, &#x27;margin18&#x27;, &#x27;margin19&#x27;, &#x27;margin20&#x27;, &#x27;margin21&#x27;, &#x27;margin22&#x27;, &#x27;margin23&#x27;, &#x27;margin24&#x27;, &#x27;margin25&#x27;, &#x27;margin26&#x27;, &#x27;margin27&#x27;, &#x27;margin28&#x27;, &#x27;margin29&#x27;, &#x27;margin30&#x27;, &#x27;margin31&#x27;, &#x27;margin32&#x27;, &#x27;margin33&#x27;, &#x27;margin34&#x27;, &#x27;margin35&#x27;, &#x27;margin36&#x27;, &#x27;margin37&#x27;, &#x27;margin38&#x27;, &#x27;margin39&#x27;, &#x27;margin40&#x27;, &#x27;margin41&#x27;, &#x27;margin42&#x27;, &#x27;margin43&#x27;, &#x27;margin44&#x27;, &#x27;margin45&#x27;, &#x27;margin46&#x27;, &#x27;margin47&#x27;, &#x27;margin48&#x27;, &#x27;margin49&#x27;, &#x27;margin50&#x27;, &#x27;margin51&#x27;, &#x27;margin52&#x27;, &#x27;margin53&#x27;, &#x27;margin54&#x27;, &#x27;margin55&#x27;, &#x27;margin56&#x27;, &#x27;margin57&#x27;, &#x27;margin58&#x27;, &#x27;margin59&#x27;, &#x27;margin60&#x27;, &#x27;margin61&#x27;, &#x27;margin62&#x27;, &#x27;margin63&#x27;, &#x27;margin64&#x27;, &#x27;shape1&#x27;, &#x27;shape2&#x27;, &#x27;shape3&#x27;, &#x27;shape4&#x27;, &#x27;shape5&#x27;, &#x27;shape6&#x27;, &#x27;shape7&#x27;, &#x27;shape8&#x27;, &#x27;shape9&#x27;, &#x27;shape10&#x27;, &#x27;shape11&#x27;, &#x27;shape12&#x27;, &#x27;shape13&#x27;, &#x27;shape14&#x27;, &#x27;shape15&#x27;, &#x27;shape16&#x27;, &#x27;shape17&#x27;, &#x27;shape18&#x27;, &#x27;shape19&#x27;, &#x27;shape20&#x27;, &#x27;shape21&#x27;, &#x27;shape22&#x27;, &#x27;shape23&#x27;, &#x27;shape24&#x27;, &#x27;shape25&#x27;, &#x27;shape26&#x27;, &#x27;shape27&#x27;, &#x27;shape28&#x27;, &#x27;shape29&#x27;, &#x27;shape30&#x27;, &#x27;shape31&#x27;, &#x27;shape32&#x27;, &#x27;shape33&#x27;, &#x27;shape34&#x27;, &#x27;shape35&#x27;, &#x27;shape36&#x27;, &#x27;shape37&#x27;, &#x27;shape38&#x27;, &#x27;shape39&#x27;, &#x27;shape40&#x27;, &#x27;shape41&#x27;, &#x27;shape42&#x27;, &#x27;shape43&#x27;, &#x27;shape44&#x27;, &#x27;shape45&#x27;, &#x27;shape46&#x27;, &#x27;shape47&#x27;, &#x27;shape48&#x27;, &#x27;shape49&#x27;, &#x27;shape50&#x27;, &#x27;shape51&#x27;, &#x27;shape52&#x27;, &#x27;shape53&#x27;, &#x27;shape54&#x27;, &#x27;shape55&#x27;, &#x27;shape56&#x27;, &#x27;shape57&#x27;, &#x27;shape58&#x27;, &#x27;shape59&#x27;, &#x27;shape60&#x27;, &#x27;shape61&#x27;, &#x27;shape62&#x27;, &#x27;shape63&#x27;, &#x27;shape64&#x27;, &#x27;texture1&#x27;, &#x27;texture2&#x27;, &#x27;texture3&#x27;, &#x27;texture4&#x27;, &#x27;texture5&#x27;, &#x27;texture6&#x27;, &#x27;texture7&#x27;, &#x27;texture8&#x27;, &#x27;texture9&#x27;, &#x27;texture10&#x27;, &#x27;texture11&#x27;, &#x27;texture12&#x27;, &#x27;texture13&#x27;, &#x27;texture14&#x27;, &#x27;texture15&#x27;, &#x27;texture16&#x27;, &#x27;texture17&#x27;, &#x27;texture18&#x27;, &#x27;texture19&#x27;, &#x27;texture20&#x27;, &#x27;texture21&#x27;, &#x27;texture22&#x27;, &#x27;texture23&#x27;, &#x27;texture24&#x27;, &#x27;texture25&#x27;, &#x27;texture26&#x27;, &#x27;texture27&#x27;, &#x27;texture28&#x27;, &#x27;texture29&#x27;, &#x27;texture30&#x27;, &#x27;texture31&#x27;, &#x27;texture32&#x27;, &#x27;texture33&#x27;, &#x27;texture34&#x27;, &#x27;texture35&#x27;, &#x27;texture36&#x27;, &#x27;texture37&#x27;, &#x27;texture38&#x27;, &#x27;texture39&#x27;, &#x27;texture40&#x27;, &#x27;texture41&#x27;, &#x27;texture42&#x27;, &#x27;texture43&#x27;, &#x27;texture44&#x27;, &#x27;texture45&#x27;, &#x27;texture46&#x27;, &#x27;texture47&#x27;, &#x27;texture48&#x27;, &#x27;texture49&#x27;, &#x27;texture50&#x27;, &#x27;texture51&#x27;, &#x27;texture52&#x27;, &#x27;texture53&#x27;, &#x27;texture54&#x27;, &#x27;texture55&#x27;, &#x27;texture56&#x27;, &#x27;texture57&#x27;, &#x27;texture58&#x27;, &#x27;texture59&#x27;, &#x27;texture60&#x27;, &#x27;texture61&#x27;, &#x27;texture62&#x27;, &#x27;texture63&#x27;, &#x27;texture64&#x27;]</pre></div></div></div><div class=\"sk-serial\"><div class=\"sk-item\"><div class=\"sk-estimator sk-toggleable\"><input class=\"sk-toggleable__control sk-hidden--visually\" id=\"sk-estimator-id-5\" type=\"checkbox\" ><label for=\"sk-estimator-id-5\" class=\"sk-toggleable__label sk-toggleable__label-arrow\">passthrough</label><div class=\"sk-toggleable__content\"><pre>passthrough</pre></div></div></div></div></div></div></div></div><div class=\"sk-item\"><div class=\"sk-estimator sk-toggleable\"><input class=\"sk-toggleable__control sk-hidden--visually\" id=\"sk-estimator-id-6\" type=\"checkbox\" ><label for=\"sk-estimator-id-6\" class=\"sk-toggleable__label sk-toggleable__label-arrow\">RandomForestClassifier</label><div class=\"sk-toggleable__content\"><pre>RandomForestClassifier(n_jobs=-1, random_state=42)</pre></div></div></div></div></div></div></div></div></div></div></div></div>"
      ],
      "text/plain": [
       "RandomizedSearchCV(estimator=Pipeline(steps=[('columntransformer',\n",
       "                                              ColumnTransformer(transformers=[('passthrough',\n",
       "                                                                               'passthrough',\n",
       "                                                                               ['margin1',\n",
       "                                                                                'margin2',\n",
       "                                                                                'margin3',\n",
       "                                                                                'margin4',\n",
       "                                                                                'margin5',\n",
       "                                                                                'margin6',\n",
       "                                                                                'margin7',\n",
       "                                                                                'margin8',\n",
       "                                                                                'margin9',\n",
       "                                                                                'margin10',\n",
       "                                                                                'margin11',\n",
       "                                                                                'margin12',\n",
       "                                                                                'margin13',\n",
       "                                                                                'margin14',\n",
       "                                                                                'margin15',\n",
       "                                                                                'margin16',\n",
       "                                                                                'margin17',\n",
       "                                                                                'margin18',\n",
       "                                                                                'margin19',\n",
       "                                                                                'margin20',\n",
       "                                                                                'margin21',...\n",
       "                                             ('randomforestclassifier',\n",
       "                                              RandomForestClassifier(n_jobs=-1,\n",
       "                                                                     random_state=42))]),\n",
       "                   n_iter=20, n_jobs=-1,\n",
       "                   param_distributions={'randomforestclassifier__max_depth': [10,\n",
       "                                                                              30,\n",
       "                                                                              80,\n",
       "                                                                              None],\n",
       "                                        'randomforestclassifier__max_features': [5,\n",
       "                                                                                 'log2',\n",
       "                                                                                 'sqrt',\n",
       "                                                                                 21],\n",
       "                                        'randomforestclassifier__n_estimators': <scipy.stats._distn_infrastructure.rv_discrete_frozen object at 0x00000171A564BE10>},\n",
       "                   random_state=42)"
      ]
     },
     "execution_count": 25,
     "metadata": {},
     "output_type": "execute_result"
    }
   ],
   "source": [
    "rscv = RandomizedSearchCV(\n",
    "    forest_metadata_pipeline,\n",
    "    {\n",
    "        # Although more estimators would always seem to be better, even when we\n",
    "        # did this with between 20, 1000 estimators, the best scoring estimator\n",
    "        # consistently had between 430-480 estimators, regardless of other parameters.\n",
    "        'randomforestclassifier__n_estimators': randint(450, 500),\n",
    "        'randomforestclassifier__max_depth': [10, 30, 80, None],\n",
    "        # sqrt ~= 14, log2 ~= 8\n",
    "        'randomforestclassifier__max_features': [5, 'log2', 'sqrt', 21],\n",
    "    },\n",
    "    n_jobs=-1,\n",
    "    n_iter=20,\n",
    "    random_state=42,\n",
    ")\n",
    "\n",
    "# Performs CV implicitly\n",
    "rscv.fit(full_X_train, full_y_train)"
   ]
  },
  {
   "cell_type": "code",
   "execution_count": 26,
   "metadata": {},
   "outputs": [
    {
     "name": "stdout",
     "output_type": "stream",
     "text": [
      "{'randomforestclassifier__max_depth': 80, 'randomforestclassifier__max_features': 21, 'randomforestclassifier__n_estimators': 452}\n",
      "0.9848484848484848\n"
     ]
    }
   ],
   "source": [
    "print(rscv.best_params_)\n",
    "print(rscv.best_score_)"
   ]
  },
  {
   "cell_type": "markdown",
   "metadata": {},
   "source": [
    "*Since RandomForest has highest accuracy with metadata only, we may have better luck just throwing out the image data for this classifier type*"
   ]
  },
  {
   "cell_type": "markdown",
   "metadata": {},
   "source": [
    "### Voting Classifier"
   ]
  },
  {
   "cell_type": "markdown",
   "metadata": {},
   "source": [
    "Can a RandomForest trained on the image data help improve the score of the metadata-only RandomForest by catching some edge cases?"
   ]
  },
  {
   "cell_type": "code",
   "execution_count": 27,
   "metadata": {},
   "outputs": [
    {
     "data": {
      "text/plain": [
       "fit_time            16.647 (+/- 1.646)\n",
       "score_time           0.528 (+/- 0.163)\n",
       "validation_score     0.986 (+/- 0.004)\n",
       "dtype: object"
      ]
     },
     "execution_count": 27,
     "metadata": {},
     "output_type": "execute_result"
    }
   ],
   "source": [
    "voting = VotingClassifier(\n",
    "    estimators=[\n",
    "        ('meta', rscv.best_estimator_),\n",
    "        ('img', forest_img_pipeline)\n",
    "    ],\n",
    "    voting='soft',\n",
    "    n_jobs=-1,\n",
    ")\n",
    "\n",
    "X_train, X_val, y_train, y_val = train_test_split(full_X_train, full_y_train, train_size=0.8)\n",
    "\n",
    "mean_std_cross_val_scores(voting, full_X_train, full_y_train)"
   ]
  },
  {
   "cell_type": "markdown",
   "metadata": {},
   "source": [
    "There's not much change in performance and it seems like there still might be some overfitting still."
   ]
  },
  {
   "cell_type": "markdown",
   "metadata": {},
   "source": [
    "## Test Set Predictions for Kaggle"
   ]
  },
  {
   "cell_type": "code",
   "execution_count": 28,
   "metadata": {},
   "outputs": [],
   "source": [
    "# Outputs a CSV of predictions for each classifier's submission to Kaggle\n",
    "def create_report(clf, filename):\n",
    "    # Predict probabilities for each class\n",
    "    proba = pd.DataFrame(\n",
    "        clf.predict_proba(full_X_test),\n",
    "        columns=dummy.classes_,\n",
    "        index=test_df.index   \n",
    "    )\n",
    "\n",
    "    \n",
    "    # Output to CSV for submission\n",
    "    if not os.path.exists('Reports/'):\n",
    "        os.mkdir('Reports')\n",
    "\n",
    "    proba.to_csv('Reports/{filename}')"
   ]
  },
  {
   "cell_type": "code",
   "execution_count": 29,
   "metadata": {},
   "outputs": [],
   "source": [
    "# Dummy Classifier\n",
    "create_report(\n",
    "    dummy.fit(full_X_train_transformed, full_y_train), \n",
    "    'DummyClassifier.csv'\n",
    ")"
   ]
  },
  {
   "cell_type": "code",
   "execution_count": 30,
   "metadata": {},
   "outputs": [],
   "source": [
    "# Hyperparameter-optimized metadata-only RandomForest\n",
    "create_report(\n",
    "    rscv.best_estimator_.fit(full_X_train, full_y_train),\n",
    "    'RandomForestMetadataOnly.csv'\n",
    ")"
   ]
  },
  {
   "cell_type": "code",
   "execution_count": 31,
   "metadata": {},
   "outputs": [],
   "source": [
    "# VotingClassifier with two RandomForests\n",
    "create_report(\n",
    "    voting.fit(full_X_train, full_y_train),\n",
    "    'VotingClassifier'\n",
    ")"
   ]
  }
 ],
 "metadata": {
  "kernelspec": {
   "display_name": "Python 3 (ipykernel)",
   "language": "python",
   "name": "python3"
  },
  "language_info": {
   "codemirror_mode": {
    "name": "ipython",
    "version": 3
   },
   "file_extension": ".py",
   "mimetype": "text/x-python",
   "name": "python",
   "nbconvert_exporter": "python",
   "pygments_lexer": "ipython3",
   "version": "3.11.1"
  }
 },
 "nbformat": 4,
 "nbformat_minor": 2
}
