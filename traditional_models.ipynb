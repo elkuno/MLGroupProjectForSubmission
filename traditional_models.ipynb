{
 "cells": [
  {
   "cell_type": "markdown",
   "metadata": {},
   "source": [
    "# Grader Guidelines\n",
    "\n",
    "This notebook __must__ be run first, as the CSVs generated here are used by some deep learning models.  You will also need to run the other notebooks from the same directory, since they will need the output CSVs.\n",
    "\n",
    "Additionally, some cells in this notebook are resource intensive (in particular, you will probably want 16 GB RAM for data augmentation).  Use the constants in the next cell to control which parts are run.  Be aware that if you set these constants to `False`, *other notebooks will __not__ work.*"
   ]
  },
  {
   "cell_type": "code",
   "execution_count": 17,
   "metadata": {},
   "outputs": [],
   "source": [
    "# Controls whether preprocessed, transformed data is saved to a CSV--the CSV is used by some our our deep learning models\n",
    "EXPORT_TO_CSV = False\n",
    "\n",
    "# Controls whether data augmentation is performed.  This is also saved to a CSV.\n",
    "# 16 GB of RAM and at least 4 GB of storage space should be sufficient.\n",
    "USE_DATA_AUGMENTATION = False"
   ]
  },
  {
   "cell_type": "code",
   "execution_count": 1,
   "metadata": {},
   "outputs": [],
   "source": [
    "import pandas as pd\n",
    "import numpy as np\n",
    "from sklearn.dummy import DummyClassifier\n",
    "from sklearn.compose import ColumnTransformer, make_column_transformer\n",
    "from sklearn.pipeline import Pipeline, make_pipeline\n",
    "from sklearn.preprocessing import OneHotEncoder, StandardScaler, OrdinalEncoder, Normalizer\n",
    "from sklearn.model_selection import cross_val_score, cross_validate, train_test_split, RandomizedSearchCV\n",
    "from sklearn.ensemble import RandomForestClassifier, VotingClassifier\n",
    "from sklearn.linear_model import LogisticRegression\n",
    "from scipy.stats import randint\n",
    "import PIL.Image as Image\n",
    "import os\n",
    "\n",
    "import pandas as pd\n",
    "import numpy as np\n",
    "from sklearn.compose import ColumnTransformer, make_column_transformer\n",
    "from sklearn.pipeline import Pipeline, make_pipeline\n",
    "from sklearn.preprocessing import OneHotEncoder, StandardScaler, OrdinalEncoder, Normalizer\n",
    "from sklearn.model_selection import train_test_split\n",
    "\n",
    "import torch\n",
    "from torchvision.transforms import v2 as transforms\n",
    "from torchvision.io import read_image, ImageReadMode\n",
    "from PIL import Image\n",
    "import pandas as pd\n",
    "import os\n",
    "from sklearn.preprocessing import LabelEncoder\n",
    "from sklearn.model_selection import train_test_split\n",
    "from sklearn.utils import shuffle\n",
    "import numpy as np\n",
    "from sklearn.metrics import accuracy_score\n",
    "import matplotlib.pyplot as plt\n",
    "\n",
    "import pandas as pd\n",
    "import numpy as np\n",
    "from sklearn.dummy import DummyClassifier\n",
    "from sklearn.compose import make_column_transformer\n",
    "from sklearn.pipeline import make_pipeline\n",
    "from sklearn.preprocessing import Normalizer\n",
    "from sklearn.model_selection import cross_val_score, cross_val_predict, train_test_split, RandomizedSearchCV\n",
    "from sklearn.ensemble import RandomForestClassifier, VotingClassifier\n",
    "from scipy.stats import randint\n",
    "import PIL.Image as Image\n",
    "import os"
   ]
  },
  {
   "cell_type": "markdown",
   "metadata": {},
   "source": [
    "# Preprocessing"
   ]
  },
  {
   "cell_type": "code",
   "execution_count": 2,
   "metadata": {},
   "outputs": [],
   "source": [
    "# Image size constants for convenience\n",
    "IMAGE_X, IMAGE_Y = 200, 200     # Resize all images to these dimensions\n",
    "IMAGE_DIM = (IMAGE_X, IMAGE_Y)\n",
    "N_PIXELS = IMAGE_X * IMAGE_Y    # Number of pixels in resized images\n",
    "\n",
    "N_IMAGES = 1584\n",
    "AUGMENTED_ORIGINAL_RATIO = 3    # 5 augmented images for every original image"
   ]
  },
  {
   "cell_type": "code",
   "execution_count": 3,
   "metadata": {},
   "outputs": [],
   "source": [
    "# Read in training and test data\n",
    "train_df = pd.read_csv(\"CSV/train.csv\", index_col='id')\n",
    "test_df = pd.read_csv(\"CSV/test.csv\", index_col='id')"
   ]
  },
  {
   "cell_type": "markdown",
   "metadata": {},
   "source": [
    "#### Image Preprocessing"
   ]
  },
  {
   "cell_type": "code",
   "execution_count": 8,
   "metadata": {},
   "outputs": [],
   "source": [
    "# Loads an image and applies some basic preprocessing\n",
    "# to it (resizing, black and white)\n",
    "def load_image(filename):\n",
    "    return Image.open(filename) \\\n",
    "                .resize(IMAGE_DIM) \\\n",
    "                .convert(\n",
    "                    mode='1',   # black and white\n",
    "                    dither=Image.Dither.NONE,\n",
    "                )\n",
    "\n",
    "# Converts a Pillow image to a 1D numpy array of pixel data\n",
    "def image_to_flat_array(img):\n",
    "    return np.array(img).reshape((-1))\n",
    "\n",
    "# Loads images with specified indices into one-dimensional\n",
    "# pixel data and concatenates it all into a single dataframe\n",
    "def images_to_df(indices):\n",
    "    # TODO filepath hard-coded, change if needed\n",
    "    imgs = [\n",
    "        load_image(f'images/{i}.jpg') for i in indices\n",
    "    ]\n",
    "\n",
    "    # Converts each image to flat 1D representation\n",
    "    df = pd.DataFrame(\n",
    "               np.asarray(imgs).reshape((len(imgs), -1))\n",
    "           ).set_index(indices)\n",
    "    df.columns = df.columns.astype(str)     # Prevents some obscure errors later\n",
    "    return df"
   ]
  },
  {
   "cell_type": "code",
   "execution_count": 11,
   "metadata": {},
   "outputs": [],
   "source": [
    "# Load the data corresponding to each dataset\n",
    "img_train_df = images_to_df(train_df.index).astype(int)\n",
    "img_test_df = images_to_df(test_df.index).astype(int)"
   ]
  },
  {
   "cell_type": "markdown",
   "metadata": {},
   "source": [
    "#### Traditional Machine Learning Pipeline"
   ]
  },
  {
   "cell_type": "code",
   "execution_count": 14,
   "metadata": {},
   "outputs": [],
   "source": [
    "# Add the img_train columns to the preprocessor lists\n",
    "# Specify the type of each column for us to know what preprocessing needs to be done to each column\n",
    "numeric_features = [i for i in train_df.drop(columns='species').columns]\n",
    "passthrough_features = [i for i in img_train_df]"
   ]
  },
  {
   "cell_type": "code",
   "execution_count": 15,
   "metadata": {},
   "outputs": [],
   "source": [
    "# Define the pipelines for each type of data we have\n",
    "numeric_pipeline = make_pipeline(\n",
    "    # Normalize all of them to unit norm\n",
    "    Normalizer()\n",
    ")\n",
    "\n",
    "# Define our column transformer/preprocessor itself\n",
    "preprocessor = make_column_transformer(\n",
    "    (numeric_pipeline, numeric_features),\n",
    "    ('passthrough', passthrough_features)\n",
    "\n",
    ")"
   ]
  },
  {
   "cell_type": "markdown",
   "metadata": {},
   "source": [
    "#### Concatenated Dataframes & Column Transformations"
   ]
  },
  {
   "cell_type": "code",
   "execution_count": 16,
   "metadata": {},
   "outputs": [],
   "source": [
    "# Concatenates the image data with the metadata into one dataframe\n",
    "full_train_df = pd.concat([train_df, img_train_df], axis=1)\n",
    "full_test_df = pd.concat([test_df, img_test_df], axis=1)\n",
    "\n",
    "# We want to split X (big X because it is a matrix) and y from each other\n",
    "full_X_train = full_train_df.drop(columns=['species'])\n",
    "full_y_train = full_train_df['species']\n",
    "\n",
    "# Funnily enough, the test has no ground truth...\n",
    "full_X_test = full_test_df\n",
    "\n",
    "# Now we want to fit our preprocessor onto our data, so we can actually transform it (then cast it to a DF)\n",
    "full_X_train_transformed = pd.DataFrame(preprocessor.fit_transform(full_X_train))\n",
    "full_X_test_transformed = pd.DataFrame(preprocessor.transform(full_X_test))"
   ]
  },
  {
   "cell_type": "markdown",
   "metadata": {},
   "source": [
    "### Save the pre-processed data to csv for access in other jupyter notebooks"
   ]
  },
  {
   "cell_type": "code",
   "execution_count": 18,
   "metadata": {},
   "outputs": [],
   "source": [
    "# This MUST be run (i.e. EXPORT_TO_CSV must be True) for deep learning models\n",
    "# to work.\n",
    "if(EXPORT_TO_CSV):\n",
    "    full_X_train_transformed.to_csv('CSV/pre-processed/full_X_train_transformed')\n",
    "    full_y_train.to_csv('CSV/pre-processed/full_y_train')\n",
    "\n",
    "\n",
    "    full_X_test_transformed.to_csv('CSV/pre-processed/full_X_test_transformed')"
   ]
  },
  {
   "cell_type": "markdown",
   "metadata": {},
   "source": [
    "# Models"
   ]
  },
  {
   "cell_type": "code",
   "execution_count": 78,
   "metadata": {},
   "outputs": [],
   "source": [
    "# Borrowed from the class notebooks with a few modifications.\n",
    "# Uses accuracy for the CV metric\n",
    "def mean_std_cross_val_scores(model, X_train, y_train, **kwargs):\n",
    "\n",
    "    scores = cross_validate(\n",
    "        model, X_train, y_train, scoring='accuracy', return_train_score=True, **kwargs\n",
    "    )\n",
    "\n",
    "    mean_scores = pd.DataFrame(scores).mean()\n",
    "    std_scores = pd.DataFrame(scores).std()\n",
    "    out_col = []\n",
    "\n",
    "    for i in range(len(mean_scores)):\n",
    "        out_col.append((f\"%0.3f (+/- %0.3f)\" % (mean_scores[i], std_scores[i])))\n",
    "\n",
    "    return pd.Series(data=out_col, index=mean_scores.index).rename({'test_score': 'validation_score'})"
   ]
  },
  {
   "cell_type": "markdown",
   "metadata": {},
   "source": [
    "### Manual Dummy Classifier"
   ]
  },
  {
   "cell_type": "code",
   "execution_count": 34,
   "metadata": {},
   "outputs": [],
   "source": [
    "# Dummy classifer that randomly guesses the species a leaf belongs to\n",
    "np.random.seed()\n",
    "dummy = DummyClassifier(\n",
    "    strategy=\"uniform\",\n",
    "    random_state=7         # A constant is used to improve reproducibility.\n",
    ")"
   ]
  },
  {
   "cell_type": "code",
   "execution_count": 79,
   "metadata": {},
   "outputs": [
    {
     "data": {
      "text/plain": [
       "fit_time            0.212 (+/- 0.071)\n",
       "score_time          0.005 (+/- 0.007)\n",
       "validation_score    0.014 (+/- 0.012)\n",
       "train_score         0.009 (+/- 0.005)\n",
       "dtype: object"
      ]
     },
     "execution_count": 79,
     "metadata": {},
     "output_type": "execute_result"
    }
   ],
   "source": [
    "\n",
    "mean_std_cross_val_scores(dummy, full_X_train_transformed, full_y_train)"
   ]
  },
  {
   "cell_type": "markdown",
   "metadata": {},
   "source": [
    "With 99 classes, the DummyClassifier's cv-accuracy is a little over 10%, as expected."
   ]
  },
  {
   "cell_type": "markdown",
   "metadata": {},
   "source": [
    "### Random Forest"
   ]
  },
  {
   "cell_type": "code",
   "execution_count": 82,
   "metadata": {},
   "outputs": [
    {
     "name": "stdout",
     "output_type": "stream",
     "text": [
      "fit_time            2.827 (+/- 0.063)\n",
      "score_time          0.293 (+/- 0.023)\n",
      "validation_score    0.894 (+/- 0.011)\n",
      "train_score         1.000 (+/- 0.000)\n",
      "dtype: object\n"
     ]
    }
   ],
   "source": [
    "# Testing a random forest\n",
    "forest = RandomForestClassifier(\n",
    "    n_jobs=-1,\n",
    "    warm_start=False,\n",
    "    random_state = 42,  # For reproducibility\n",
    ")\n",
    "\n",
    "# No preprocessing/pipeline is required here, since DecisionTrees don't need scaling\n",
    "forest_cv_scores = mean_std_cross_val_scores(forest, full_X_train, full_y_train, cv=5)\n",
    "print(forest_cv_scores)"
   ]
  },
  {
   "cell_type": "markdown",
   "metadata": {},
   "source": [
    "There may be some overfitting here.\n",
    "\n",
    "We then wanted to evaluate the RandomForest's accuracy on the image data, to see whether it would be better to drop those features altogether.  To that end, we trained two additional RandomForests:\n",
    "\n",
    "- One on image data only\n",
    "- One on metadata only"
   ]
  },
  {
   "cell_type": "code",
   "execution_count": 83,
   "metadata": {},
   "outputs": [
    {
     "name": "stdout",
     "output_type": "stream",
     "text": [
      "fit_time            2.736 (+/- 0.148)\n",
      "score_time          0.178 (+/- 0.056)\n",
      "validation_score    0.557 (+/- 0.015)\n",
      "train_score         1.000 (+/- 0.000)\n",
      "dtype: object\n"
     ]
    }
   ],
   "source": [
    "# Evaluate performance on the image data only\n",
    "forest_img_pipeline = make_pipeline(\n",
    "    make_column_transformer(\n",
    "        ('passthrough', passthrough_features),  # Preserve image data features\n",
    "        remainder='drop',   # Drop metadata features\n",
    "    ),\n",
    "    forest,\n",
    ")\n",
    "\n",
    "forest_img_cv_scores = mean_std_cross_val_scores(forest_img_pipeline, full_X_train, full_y_train, cv=5)\n",
    "print(forest_img_cv_scores)"
   ]
  },
  {
   "cell_type": "code",
   "execution_count": 84,
   "metadata": {},
   "outputs": [
    {
     "name": "stdout",
     "output_type": "stream",
     "text": [
      "fit_time            1.634 (+/- 0.111)\n",
      "score_time          0.079 (+/- 0.009)\n",
      "validation_score    0.976 (+/- 0.006)\n",
      "train_score         1.000 (+/- 0.000)\n",
      "dtype: object\n"
     ]
    }
   ],
   "source": [
    "# Evaluate performance on the metadata only\n",
    "forest_metadata_pipeline = make_pipeline(\n",
    "    make_column_transformer(\n",
    "        ('passthrough', numeric_features),  # Don't need to normalize numeric data when using a RandomForest\n",
    "        remainder='drop',   # Drop image features\n",
    "    ),\n",
    "    forest,\n",
    ")\n",
    "\n",
    "forest_meta_cv_scores = mean_std_cross_val_scores(forest_metadata_pipeline, full_X_train, full_y_train, cv=5)\n",
    "print(forest_meta_cv_scores)"
   ]
  },
  {
   "cell_type": "markdown",
   "metadata": {},
   "source": [
    "Out of all three RandomForests, the metadata-only RandomForest has the best CV accuracy, although this did not necessarily translate into a good Kaggle score.  It seems that there is still some overfitting, despite the cross-validation score.  Some research indicates that sklearn's OOB score might be a better metric for evaluating how well the model will generalize if we were to do this project again.\n",
    "\n",
    "We tried hyperparameter optimization on the metadata-only forest"
   ]
  },
  {
   "cell_type": "code",
   "execution_count": 96,
   "metadata": {},
   "outputs": [
    {
     "data": {
      "text/html": [
       "<style>#sk-container-id-8 {color: black;}#sk-container-id-8 pre{padding: 0;}#sk-container-id-8 div.sk-toggleable {background-color: white;}#sk-container-id-8 label.sk-toggleable__label {cursor: pointer;display: block;width: 100%;margin-bottom: 0;padding: 0.3em;box-sizing: border-box;text-align: center;}#sk-container-id-8 label.sk-toggleable__label-arrow:before {content: \"▸\";float: left;margin-right: 0.25em;color: #696969;}#sk-container-id-8 label.sk-toggleable__label-arrow:hover:before {color: black;}#sk-container-id-8 div.sk-estimator:hover label.sk-toggleable__label-arrow:before {color: black;}#sk-container-id-8 div.sk-toggleable__content {max-height: 0;max-width: 0;overflow: hidden;text-align: left;background-color: #f0f8ff;}#sk-container-id-8 div.sk-toggleable__content pre {margin: 0.2em;color: black;border-radius: 0.25em;background-color: #f0f8ff;}#sk-container-id-8 input.sk-toggleable__control:checked~div.sk-toggleable__content {max-height: 200px;max-width: 100%;overflow: auto;}#sk-container-id-8 input.sk-toggleable__control:checked~label.sk-toggleable__label-arrow:before {content: \"▾\";}#sk-container-id-8 div.sk-estimator input.sk-toggleable__control:checked~label.sk-toggleable__label {background-color: #d4ebff;}#sk-container-id-8 div.sk-label input.sk-toggleable__control:checked~label.sk-toggleable__label {background-color: #d4ebff;}#sk-container-id-8 input.sk-hidden--visually {border: 0;clip: rect(1px 1px 1px 1px);clip: rect(1px, 1px, 1px, 1px);height: 1px;margin: -1px;overflow: hidden;padding: 0;position: absolute;width: 1px;}#sk-container-id-8 div.sk-estimator {font-family: monospace;background-color: #f0f8ff;border: 1px dotted black;border-radius: 0.25em;box-sizing: border-box;margin-bottom: 0.5em;}#sk-container-id-8 div.sk-estimator:hover {background-color: #d4ebff;}#sk-container-id-8 div.sk-parallel-item::after {content: \"\";width: 100%;border-bottom: 1px solid gray;flex-grow: 1;}#sk-container-id-8 div.sk-label:hover label.sk-toggleable__label {background-color: #d4ebff;}#sk-container-id-8 div.sk-serial::before {content: \"\";position: absolute;border-left: 1px solid gray;box-sizing: border-box;top: 0;bottom: 0;left: 50%;z-index: 0;}#sk-container-id-8 div.sk-serial {display: flex;flex-direction: column;align-items: center;background-color: white;padding-right: 0.2em;padding-left: 0.2em;position: relative;}#sk-container-id-8 div.sk-item {position: relative;z-index: 1;}#sk-container-id-8 div.sk-parallel {display: flex;align-items: stretch;justify-content: center;background-color: white;position: relative;}#sk-container-id-8 div.sk-item::before, #sk-container-id-8 div.sk-parallel-item::before {content: \"\";position: absolute;border-left: 1px solid gray;box-sizing: border-box;top: 0;bottom: 0;left: 50%;z-index: -1;}#sk-container-id-8 div.sk-parallel-item {display: flex;flex-direction: column;z-index: 1;position: relative;background-color: white;}#sk-container-id-8 div.sk-parallel-item:first-child::after {align-self: flex-end;width: 50%;}#sk-container-id-8 div.sk-parallel-item:last-child::after {align-self: flex-start;width: 50%;}#sk-container-id-8 div.sk-parallel-item:only-child::after {width: 0;}#sk-container-id-8 div.sk-dashed-wrapped {border: 1px dashed gray;margin: 0 0.4em 0.5em 0.4em;box-sizing: border-box;padding-bottom: 0.4em;background-color: white;}#sk-container-id-8 div.sk-label label {font-family: monospace;font-weight: bold;display: inline-block;line-height: 1.2em;}#sk-container-id-8 div.sk-label-container {text-align: center;}#sk-container-id-8 div.sk-container {/* jupyter's `normalize.less` sets `[hidden] { display: none; }` but bootstrap.min.css set `[hidden] { display: none !important; }` so we also need the `!important` here to be able to override the default hidden behavior on the sphinx rendered scikit-learn.org. See: https://github.com/scikit-learn/scikit-learn/issues/21755 */display: inline-block !important;position: relative;}#sk-container-id-8 div.sk-text-repr-fallback {display: none;}</style><div id=\"sk-container-id-8\" class=\"sk-top-container\"><div class=\"sk-text-repr-fallback\"><pre>RandomizedSearchCV(estimator=Pipeline(steps=[(&#x27;columntransformer&#x27;,\n",
       "                                              ColumnTransformer(transformers=[(&#x27;passthrough&#x27;,\n",
       "                                                                               &#x27;passthrough&#x27;,\n",
       "                                                                               [&#x27;margin1&#x27;,\n",
       "                                                                                &#x27;margin2&#x27;,\n",
       "                                                                                &#x27;margin3&#x27;,\n",
       "                                                                                &#x27;margin4&#x27;,\n",
       "                                                                                &#x27;margin5&#x27;,\n",
       "                                                                                &#x27;margin6&#x27;,\n",
       "                                                                                &#x27;margin7&#x27;,\n",
       "                                                                                &#x27;margin8&#x27;,\n",
       "                                                                                &#x27;margin9&#x27;,\n",
       "                                                                                &#x27;margin10&#x27;,\n",
       "                                                                                &#x27;margin11&#x27;,\n",
       "                                                                                &#x27;margin12&#x27;,\n",
       "                                                                                &#x27;margin13&#x27;,\n",
       "                                                                                &#x27;margin14&#x27;,\n",
       "                                                                                &#x27;margin15&#x27;,\n",
       "                                                                                &#x27;margin16&#x27;,\n",
       "                                                                                &#x27;margin17&#x27;,\n",
       "                                                                                &#x27;margin18&#x27;,\n",
       "                                                                                &#x27;margin19&#x27;,\n",
       "                                                                                &#x27;margin20&#x27;,\n",
       "                                                                                &#x27;margin21&#x27;,...\n",
       "                                             (&#x27;randomforestclassifier&#x27;,\n",
       "                                              RandomForestClassifier(n_jobs=-1,\n",
       "                                                                     random_state=42))]),\n",
       "                   n_iter=20, n_jobs=-1,\n",
       "                   param_distributions={&#x27;randomforestclassifier__max_depth&#x27;: [10,\n",
       "                                                                              30,\n",
       "                                                                              80,\n",
       "                                                                              None],\n",
       "                                        &#x27;randomforestclassifier__max_features&#x27;: [5,\n",
       "                                                                                 &#x27;log2&#x27;,\n",
       "                                                                                 &#x27;sqrt&#x27;,\n",
       "                                                                                 21],\n",
       "                                        &#x27;randomforestclassifier__n_estimators&#x27;: &lt;scipy.stats._distn_infrastructure.rv_discrete_frozen object at 0x000001D782959BD0&gt;},\n",
       "                   random_state=42)</pre><b>In a Jupyter environment, please rerun this cell to show the HTML representation or trust the notebook. <br />On GitHub, the HTML representation is unable to render, please try loading this page with nbviewer.org.</b></div><div class=\"sk-container\" hidden><div class=\"sk-item sk-dashed-wrapped\"><div class=\"sk-label-container\"><div class=\"sk-label sk-toggleable\"><input class=\"sk-toggleable__control sk-hidden--visually\" id=\"sk-estimator-id-32\" type=\"checkbox\" ><label for=\"sk-estimator-id-32\" class=\"sk-toggleable__label sk-toggleable__label-arrow\">RandomizedSearchCV</label><div class=\"sk-toggleable__content\"><pre>RandomizedSearchCV(estimator=Pipeline(steps=[(&#x27;columntransformer&#x27;,\n",
       "                                              ColumnTransformer(transformers=[(&#x27;passthrough&#x27;,\n",
       "                                                                               &#x27;passthrough&#x27;,\n",
       "                                                                               [&#x27;margin1&#x27;,\n",
       "                                                                                &#x27;margin2&#x27;,\n",
       "                                                                                &#x27;margin3&#x27;,\n",
       "                                                                                &#x27;margin4&#x27;,\n",
       "                                                                                &#x27;margin5&#x27;,\n",
       "                                                                                &#x27;margin6&#x27;,\n",
       "                                                                                &#x27;margin7&#x27;,\n",
       "                                                                                &#x27;margin8&#x27;,\n",
       "                                                                                &#x27;margin9&#x27;,\n",
       "                                                                                &#x27;margin10&#x27;,\n",
       "                                                                                &#x27;margin11&#x27;,\n",
       "                                                                                &#x27;margin12&#x27;,\n",
       "                                                                                &#x27;margin13&#x27;,\n",
       "                                                                                &#x27;margin14&#x27;,\n",
       "                                                                                &#x27;margin15&#x27;,\n",
       "                                                                                &#x27;margin16&#x27;,\n",
       "                                                                                &#x27;margin17&#x27;,\n",
       "                                                                                &#x27;margin18&#x27;,\n",
       "                                                                                &#x27;margin19&#x27;,\n",
       "                                                                                &#x27;margin20&#x27;,\n",
       "                                                                                &#x27;margin21&#x27;,...\n",
       "                                             (&#x27;randomforestclassifier&#x27;,\n",
       "                                              RandomForestClassifier(n_jobs=-1,\n",
       "                                                                     random_state=42))]),\n",
       "                   n_iter=20, n_jobs=-1,\n",
       "                   param_distributions={&#x27;randomforestclassifier__max_depth&#x27;: [10,\n",
       "                                                                              30,\n",
       "                                                                              80,\n",
       "                                                                              None],\n",
       "                                        &#x27;randomforestclassifier__max_features&#x27;: [5,\n",
       "                                                                                 &#x27;log2&#x27;,\n",
       "                                                                                 &#x27;sqrt&#x27;,\n",
       "                                                                                 21],\n",
       "                                        &#x27;randomforestclassifier__n_estimators&#x27;: &lt;scipy.stats._distn_infrastructure.rv_discrete_frozen object at 0x000001D782959BD0&gt;},\n",
       "                   random_state=42)</pre></div></div></div><div class=\"sk-parallel\"><div class=\"sk-parallel-item\"><div class=\"sk-item\"><div class=\"sk-label-container\"><div class=\"sk-label sk-toggleable\"><input class=\"sk-toggleable__control sk-hidden--visually\" id=\"sk-estimator-id-33\" type=\"checkbox\" ><label for=\"sk-estimator-id-33\" class=\"sk-toggleable__label sk-toggleable__label-arrow\">estimator: Pipeline</label><div class=\"sk-toggleable__content\"><pre>Pipeline(steps=[(&#x27;columntransformer&#x27;,\n",
       "                 ColumnTransformer(transformers=[(&#x27;passthrough&#x27;, &#x27;passthrough&#x27;,\n",
       "                                                  [&#x27;margin1&#x27;, &#x27;margin2&#x27;,\n",
       "                                                   &#x27;margin3&#x27;, &#x27;margin4&#x27;,\n",
       "                                                   &#x27;margin5&#x27;, &#x27;margin6&#x27;,\n",
       "                                                   &#x27;margin7&#x27;, &#x27;margin8&#x27;,\n",
       "                                                   &#x27;margin9&#x27;, &#x27;margin10&#x27;,\n",
       "                                                   &#x27;margin11&#x27;, &#x27;margin12&#x27;,\n",
       "                                                   &#x27;margin13&#x27;, &#x27;margin14&#x27;,\n",
       "                                                   &#x27;margin15&#x27;, &#x27;margin16&#x27;,\n",
       "                                                   &#x27;margin17&#x27;, &#x27;margin18&#x27;,\n",
       "                                                   &#x27;margin19&#x27;, &#x27;margin20&#x27;,\n",
       "                                                   &#x27;margin21&#x27;, &#x27;margin22&#x27;,\n",
       "                                                   &#x27;margin23&#x27;, &#x27;margin24&#x27;,\n",
       "                                                   &#x27;margin25&#x27;, &#x27;margin26&#x27;,\n",
       "                                                   &#x27;margin27&#x27;, &#x27;margin28&#x27;,\n",
       "                                                   &#x27;margin29&#x27;, &#x27;margin30&#x27;, ...])])),\n",
       "                (&#x27;randomforestclassifier&#x27;,\n",
       "                 RandomForestClassifier(n_jobs=-1, random_state=42))])</pre></div></div></div><div class=\"sk-serial\"><div class=\"sk-item\"><div class=\"sk-serial\"><div class=\"sk-item sk-dashed-wrapped\"><div class=\"sk-label-container\"><div class=\"sk-label sk-toggleable\"><input class=\"sk-toggleable__control sk-hidden--visually\" id=\"sk-estimator-id-34\" type=\"checkbox\" ><label for=\"sk-estimator-id-34\" class=\"sk-toggleable__label sk-toggleable__label-arrow\">columntransformer: ColumnTransformer</label><div class=\"sk-toggleable__content\"><pre>ColumnTransformer(transformers=[(&#x27;passthrough&#x27;, &#x27;passthrough&#x27;,\n",
       "                                 [&#x27;margin1&#x27;, &#x27;margin2&#x27;, &#x27;margin3&#x27;, &#x27;margin4&#x27;,\n",
       "                                  &#x27;margin5&#x27;, &#x27;margin6&#x27;, &#x27;margin7&#x27;, &#x27;margin8&#x27;,\n",
       "                                  &#x27;margin9&#x27;, &#x27;margin10&#x27;, &#x27;margin11&#x27;, &#x27;margin12&#x27;,\n",
       "                                  &#x27;margin13&#x27;, &#x27;margin14&#x27;, &#x27;margin15&#x27;,\n",
       "                                  &#x27;margin16&#x27;, &#x27;margin17&#x27;, &#x27;margin18&#x27;,\n",
       "                                  &#x27;margin19&#x27;, &#x27;margin20&#x27;, &#x27;margin21&#x27;,\n",
       "                                  &#x27;margin22&#x27;, &#x27;margin23&#x27;, &#x27;margin24&#x27;,\n",
       "                                  &#x27;margin25&#x27;, &#x27;margin26&#x27;, &#x27;margin27&#x27;,\n",
       "                                  &#x27;margin28&#x27;, &#x27;margin29&#x27;, &#x27;margin30&#x27;, ...])])</pre></div></div></div><div class=\"sk-parallel\"><div class=\"sk-parallel-item\"><div class=\"sk-item\"><div class=\"sk-label-container\"><div class=\"sk-label sk-toggleable\"><input class=\"sk-toggleable__control sk-hidden--visually\" id=\"sk-estimator-id-35\" type=\"checkbox\" ><label for=\"sk-estimator-id-35\" class=\"sk-toggleable__label sk-toggleable__label-arrow\">passthrough</label><div class=\"sk-toggleable__content\"><pre>[&#x27;margin1&#x27;, &#x27;margin2&#x27;, &#x27;margin3&#x27;, &#x27;margin4&#x27;, &#x27;margin5&#x27;, &#x27;margin6&#x27;, &#x27;margin7&#x27;, &#x27;margin8&#x27;, &#x27;margin9&#x27;, &#x27;margin10&#x27;, &#x27;margin11&#x27;, &#x27;margin12&#x27;, &#x27;margin13&#x27;, &#x27;margin14&#x27;, &#x27;margin15&#x27;, &#x27;margin16&#x27;, &#x27;margin17&#x27;, &#x27;margin18&#x27;, &#x27;margin19&#x27;, &#x27;margin20&#x27;, &#x27;margin21&#x27;, &#x27;margin22&#x27;, &#x27;margin23&#x27;, &#x27;margin24&#x27;, &#x27;margin25&#x27;, &#x27;margin26&#x27;, &#x27;margin27&#x27;, &#x27;margin28&#x27;, &#x27;margin29&#x27;, &#x27;margin30&#x27;, &#x27;margin31&#x27;, &#x27;margin32&#x27;, &#x27;margin33&#x27;, &#x27;margin34&#x27;, &#x27;margin35&#x27;, &#x27;margin36&#x27;, &#x27;margin37&#x27;, &#x27;margin38&#x27;, &#x27;margin39&#x27;, &#x27;margin40&#x27;, &#x27;margin41&#x27;, &#x27;margin42&#x27;, &#x27;margin43&#x27;, &#x27;margin44&#x27;, &#x27;margin45&#x27;, &#x27;margin46&#x27;, &#x27;margin47&#x27;, &#x27;margin48&#x27;, &#x27;margin49&#x27;, &#x27;margin50&#x27;, &#x27;margin51&#x27;, &#x27;margin52&#x27;, &#x27;margin53&#x27;, &#x27;margin54&#x27;, &#x27;margin55&#x27;, &#x27;margin56&#x27;, &#x27;margin57&#x27;, &#x27;margin58&#x27;, &#x27;margin59&#x27;, &#x27;margin60&#x27;, &#x27;margin61&#x27;, &#x27;margin62&#x27;, &#x27;margin63&#x27;, &#x27;margin64&#x27;, &#x27;shape1&#x27;, &#x27;shape2&#x27;, &#x27;shape3&#x27;, &#x27;shape4&#x27;, &#x27;shape5&#x27;, &#x27;shape6&#x27;, &#x27;shape7&#x27;, &#x27;shape8&#x27;, &#x27;shape9&#x27;, &#x27;shape10&#x27;, &#x27;shape11&#x27;, &#x27;shape12&#x27;, &#x27;shape13&#x27;, &#x27;shape14&#x27;, &#x27;shape15&#x27;, &#x27;shape16&#x27;, &#x27;shape17&#x27;, &#x27;shape18&#x27;, &#x27;shape19&#x27;, &#x27;shape20&#x27;, &#x27;shape21&#x27;, &#x27;shape22&#x27;, &#x27;shape23&#x27;, &#x27;shape24&#x27;, &#x27;shape25&#x27;, &#x27;shape26&#x27;, &#x27;shape27&#x27;, &#x27;shape28&#x27;, &#x27;shape29&#x27;, &#x27;shape30&#x27;, &#x27;shape31&#x27;, &#x27;shape32&#x27;, &#x27;shape33&#x27;, &#x27;shape34&#x27;, &#x27;shape35&#x27;, &#x27;shape36&#x27;, &#x27;shape37&#x27;, &#x27;shape38&#x27;, &#x27;shape39&#x27;, &#x27;shape40&#x27;, &#x27;shape41&#x27;, &#x27;shape42&#x27;, &#x27;shape43&#x27;, &#x27;shape44&#x27;, &#x27;shape45&#x27;, &#x27;shape46&#x27;, &#x27;shape47&#x27;, &#x27;shape48&#x27;, &#x27;shape49&#x27;, &#x27;shape50&#x27;, &#x27;shape51&#x27;, &#x27;shape52&#x27;, &#x27;shape53&#x27;, &#x27;shape54&#x27;, &#x27;shape55&#x27;, &#x27;shape56&#x27;, &#x27;shape57&#x27;, &#x27;shape58&#x27;, &#x27;shape59&#x27;, &#x27;shape60&#x27;, &#x27;shape61&#x27;, &#x27;shape62&#x27;, &#x27;shape63&#x27;, &#x27;shape64&#x27;, &#x27;texture1&#x27;, &#x27;texture2&#x27;, &#x27;texture3&#x27;, &#x27;texture4&#x27;, &#x27;texture5&#x27;, &#x27;texture6&#x27;, &#x27;texture7&#x27;, &#x27;texture8&#x27;, &#x27;texture9&#x27;, &#x27;texture10&#x27;, &#x27;texture11&#x27;, &#x27;texture12&#x27;, &#x27;texture13&#x27;, &#x27;texture14&#x27;, &#x27;texture15&#x27;, &#x27;texture16&#x27;, &#x27;texture17&#x27;, &#x27;texture18&#x27;, &#x27;texture19&#x27;, &#x27;texture20&#x27;, &#x27;texture21&#x27;, &#x27;texture22&#x27;, &#x27;texture23&#x27;, &#x27;texture24&#x27;, &#x27;texture25&#x27;, &#x27;texture26&#x27;, &#x27;texture27&#x27;, &#x27;texture28&#x27;, &#x27;texture29&#x27;, &#x27;texture30&#x27;, &#x27;texture31&#x27;, &#x27;texture32&#x27;, &#x27;texture33&#x27;, &#x27;texture34&#x27;, &#x27;texture35&#x27;, &#x27;texture36&#x27;, &#x27;texture37&#x27;, &#x27;texture38&#x27;, &#x27;texture39&#x27;, &#x27;texture40&#x27;, &#x27;texture41&#x27;, &#x27;texture42&#x27;, &#x27;texture43&#x27;, &#x27;texture44&#x27;, &#x27;texture45&#x27;, &#x27;texture46&#x27;, &#x27;texture47&#x27;, &#x27;texture48&#x27;, &#x27;texture49&#x27;, &#x27;texture50&#x27;, &#x27;texture51&#x27;, &#x27;texture52&#x27;, &#x27;texture53&#x27;, &#x27;texture54&#x27;, &#x27;texture55&#x27;, &#x27;texture56&#x27;, &#x27;texture57&#x27;, &#x27;texture58&#x27;, &#x27;texture59&#x27;, &#x27;texture60&#x27;, &#x27;texture61&#x27;, &#x27;texture62&#x27;, &#x27;texture63&#x27;, &#x27;texture64&#x27;]</pre></div></div></div><div class=\"sk-serial\"><div class=\"sk-item\"><div class=\"sk-estimator sk-toggleable\"><input class=\"sk-toggleable__control sk-hidden--visually\" id=\"sk-estimator-id-36\" type=\"checkbox\" ><label for=\"sk-estimator-id-36\" class=\"sk-toggleable__label sk-toggleable__label-arrow\">passthrough</label><div class=\"sk-toggleable__content\"><pre>passthrough</pre></div></div></div></div></div></div></div></div><div class=\"sk-item\"><div class=\"sk-estimator sk-toggleable\"><input class=\"sk-toggleable__control sk-hidden--visually\" id=\"sk-estimator-id-37\" type=\"checkbox\" ><label for=\"sk-estimator-id-37\" class=\"sk-toggleable__label sk-toggleable__label-arrow\">RandomForestClassifier</label><div class=\"sk-toggleable__content\"><pre>RandomForestClassifier(n_jobs=-1, random_state=42)</pre></div></div></div></div></div></div></div></div></div></div></div></div>"
      ],
      "text/plain": [
       "RandomizedSearchCV(estimator=Pipeline(steps=[('columntransformer',\n",
       "                                              ColumnTransformer(transformers=[('passthrough',\n",
       "                                                                               'passthrough',\n",
       "                                                                               ['margin1',\n",
       "                                                                                'margin2',\n",
       "                                                                                'margin3',\n",
       "                                                                                'margin4',\n",
       "                                                                                'margin5',\n",
       "                                                                                'margin6',\n",
       "                                                                                'margin7',\n",
       "                                                                                'margin8',\n",
       "                                                                                'margin9',\n",
       "                                                                                'margin10',\n",
       "                                                                                'margin11',\n",
       "                                                                                'margin12',\n",
       "                                                                                'margin13',\n",
       "                                                                                'margin14',\n",
       "                                                                                'margin15',\n",
       "                                                                                'margin16',\n",
       "                                                                                'margin17',\n",
       "                                                                                'margin18',\n",
       "                                                                                'margin19',\n",
       "                                                                                'margin20',\n",
       "                                                                                'margin21',...\n",
       "                                             ('randomforestclassifier',\n",
       "                                              RandomForestClassifier(n_jobs=-1,\n",
       "                                                                     random_state=42))]),\n",
       "                   n_iter=20, n_jobs=-1,\n",
       "                   param_distributions={'randomforestclassifier__max_depth': [10,\n",
       "                                                                              30,\n",
       "                                                                              80,\n",
       "                                                                              None],\n",
       "                                        'randomforestclassifier__max_features': [5,\n",
       "                                                                                 'log2',\n",
       "                                                                                 'sqrt',\n",
       "                                                                                 21],\n",
       "                                        'randomforestclassifier__n_estimators': <scipy.stats._distn_infrastructure.rv_discrete_frozen object at 0x000001D782959BD0>},\n",
       "                   random_state=42)"
      ]
     },
     "execution_count": 96,
     "metadata": {},
     "output_type": "execute_result"
    }
   ],
   "source": [
    "rscv = RandomizedSearchCV(\n",
    "    forest_metadata_pipeline,\n",
    "    {\n",
    "        # Although more estimators would always seem to be better, even when we\n",
    "        # did this with between 20, 1000 estimators, the best scoring estimator\n",
    "        # consistently had between 430-480 estimators, regardless of other parameters.\n",
    "        'randomforestclassifier__n_estimators': randint(450, 500),\n",
    "        'randomforestclassifier__max_depth': [10, 30, 80, None],\n",
    "        # sqrt ~= 14, log2 ~= 8\n",
    "        'randomforestclassifier__max_features': [5, 'log2', 'sqrt', 21],\n",
    "    },\n",
    "    n_jobs=-1,\n",
    "    n_iter=20,\n",
    "    random_state=42,\n",
    ")\n",
    "\n",
    "# Performs CV implicitly\n",
    "rscv.fit(full_X_train, full_y_train)"
   ]
  },
  {
   "cell_type": "code",
   "execution_count": 98,
   "metadata": {},
   "outputs": [
    {
     "name": "stdout",
     "output_type": "stream",
     "text": [
      "{'randomforestclassifier__max_depth': 80, 'randomforestclassifier__max_features': 21, 'randomforestclassifier__n_estimators': 452}\n",
      "0.9848484848484848\n"
     ]
    }
   ],
   "source": [
    "print(rscv.best_params_)\n",
    "print(rscv.best_score_)"
   ]
  },
  {
   "cell_type": "markdown",
   "metadata": {},
   "source": [
    "*Since RandomForest has highest accuracy with metadata only, we may have better luck just throwing out the image data for this classifier type*"
   ]
  },
  {
   "cell_type": "markdown",
   "metadata": {},
   "source": [
    "### Voting Classifier"
   ]
  },
  {
   "cell_type": "markdown",
   "metadata": {},
   "source": [
    "Can a RandomForest trained on the image data help improve the score of the metadata-only RandomForest by catching some edge cases?"
   ]
  },
  {
   "cell_type": "code",
   "execution_count": 106,
   "metadata": {},
   "outputs": [
    {
     "data": {
      "text/plain": [
       "fit_time            17.996 (+/- 2.557)\n",
       "score_time           0.531 (+/- 0.075)\n",
       "validation_score     0.986 (+/- 0.004)\n",
       "train_score          1.000 (+/- 0.000)\n",
       "dtype: object"
      ]
     },
     "execution_count": 106,
     "metadata": {},
     "output_type": "execute_result"
    }
   ],
   "source": [
    "voting = VotingClassifier(\n",
    "    estimators=[\n",
    "        ('meta', rscv.best_estimator_),\n",
    "        ('img', forest_img_pipeline)\n",
    "    ],\n",
    "    voting='soft',\n",
    "    n_jobs=-1,\n",
    ")\n",
    "\n",
    "X_train, X_val, y_train, y_val = train_test_split(full_X_train, full_y_train, train_size=0.8)\n",
    "\n",
    "mean_std_cross_val_scores(voting, full_X_train, full_y_train)"
   ]
  },
  {
   "cell_type": "markdown",
   "metadata": {},
   "source": [
    "There's not much change in performance and it seems like there still might be some overfitting still."
   ]
  },
  {
   "cell_type": "markdown",
   "metadata": {},
   "source": [
    "## Test Set Predictions for Kaggle"
   ]
  },
  {
   "cell_type": "code",
   "execution_count": 99,
   "metadata": {},
   "outputs": [],
   "source": [
    "# Outputs a CSV of predictions for each classifier's submission to Kaggle\n",
    "def create_report(clf, filename):\n",
    "    # Predict probabilities for each class\n",
    "    proba = pd.DataFrame(\n",
    "        clf.predict_proba(full_X_test),\n",
    "        columns=dummy.classes_,\n",
    "        index=test_df.index   \n",
    "    )\n",
    "\n",
    "    \n",
    "    # Output to CSV for submission\n",
    "    if not os.path.exists('Reports/'):\n",
    "        os.mkdir('Reports')\n",
    "\n",
    "    proba.to_csv('Reports/{filename}')"
   ]
  },
  {
   "cell_type": "code",
   "execution_count": 102,
   "metadata": {},
   "outputs": [],
   "source": [
    "# Dummy Classifier\n",
    "create_report(\n",
    "    dummy.fit(full_X_train_transformed, full_y_train), \n",
    "    'DummyClassifier.csv'\n",
    ")"
   ]
  },
  {
   "cell_type": "code",
   "execution_count": 107,
   "metadata": {},
   "outputs": [],
   "source": [
    "# Hyperparameter-optimized metadata-only RandomForest\n",
    "create_report(\n",
    "    rscv.best_estimator_.fit(full_X_train, full_y_train),\n",
    "    'RandomForestMetadataOnly.csv'\n",
    ")"
   ]
  },
  {
   "cell_type": "code",
   "execution_count": 109,
   "metadata": {},
   "outputs": [],
   "source": [
    "# VotingClassifier with two RandomForests\n",
    "create_report(\n",
    "    voting.fit(full_X_train, full_y_train),\n",
    "    'VotingClassifier'\n",
    ")"
   ]
  },
  {
   "cell_type": "code",
   "execution_count": null,
   "metadata": {},
   "outputs": [],
   "source": []
  }
 ],
 "metadata": {
  "kernelspec": {
   "display_name": "Python 3 (ipykernel)",
   "language": "python",
   "name": "python3"
  },
  "language_info": {
   "codemirror_mode": {
    "name": "ipython",
    "version": 3
   },
   "file_extension": ".py",
   "mimetype": "text/x-python",
   "name": "python",
   "nbconvert_exporter": "python",
   "pygments_lexer": "ipython3",
   "version": "3.11.1"
  }
 },
 "nbformat": 4,
 "nbformat_minor": 2
}
